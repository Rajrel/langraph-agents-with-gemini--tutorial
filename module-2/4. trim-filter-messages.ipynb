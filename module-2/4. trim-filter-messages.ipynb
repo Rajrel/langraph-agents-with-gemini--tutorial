{
 "cells": [
  {
   "cell_type": "markdown",
   "id": "c52ea2f9-03ff-4647-b782-46867ebed04e",
   "metadata": {},
   "source": [
    "# Filtering and trimming messages\n",
    "\n",
    "## Review\n",
    "\n",
    "Now, we have a deeper understanding of a few things: \n",
    "\n",
    "* How to customize the graph state schema\n",
    "* How to define custom state reducers\n",
    "* How to use multiple graph state schemas\n",
    "\n",
    "## Goals\n",
    "\n",
    "Now, we can start using these concepts with models in LangGraph!\n",
    " \n",
    "In the next few sessions, we'll build towards a chatbot that has long-term memory.\n",
    "\n",
    "Because our chatbot will use messages, let's first talk a bit more about advanced ways to work with messages in graph state."
   ]
  },
  {
   "cell_type": "code",
   "execution_count": 2,
   "id": "d5197aba-5d46-421b-ae3b-4e3034edcfda",
   "metadata": {},
   "outputs": [
    {
     "name": "stderr",
     "output_type": "stream",
     "text": [
      "\n",
      "[notice] A new release of pip is available: 23.2.1 -> 24.2\n",
      "[notice] To update, run: python.exe -m pip install --upgrade pip\n"
     ]
    }
   ],
   "source": [
    "%%capture --no-stderr\n",
    "! python -m pip install --quiet -U langchain_core langgraph langchain_openai langchain_google_genai"
   ]
  },
  {
   "cell_type": "code",
   "execution_count": 3,
   "id": "768dc606-d5f2-468d-96ea-910b264e0f8a",
   "metadata": {},
   "outputs": [],
   "source": [
    "import os, getpass\n",
    "\n",
    "def _set_env(var: str):\n",
    "    if not os.environ.get(var):\n",
    "        os.environ[var] = getpass.getpass(f\"{var}: \")\n",
    "\n",
    "_set_env(\"GOOGLE_API_KEY\")"
   ]
  },
  {
   "cell_type": "markdown",
   "id": "8b64d8d3-e4ac-4961-bdc0-688825eb5864",
   "metadata": {},
   "source": [
    "We'll use [LangSmith](https://docs.smith.langchain.com/) for [tracing](https://docs.smith.langchain.com/concepts/tracing).\n",
    "\n",
    "We'll log to a project, `langgraph-gemini`. "
   ]
  },
  {
   "cell_type": "code",
   "execution_count": 4,
   "id": "dd020c79",
   "metadata": {},
   "outputs": [],
   "source": [
    "_set_env(\"LANGCHAIN_API_KEY\")\n",
    "os.environ[\"LANGCHAIN_TRACING_V2\"] = \"true\"\n",
    "os.environ[\"LANGCHAIN_PROJECT\"] = \"langgraph-gemini\""
   ]
  },
  {
   "cell_type": "markdown",
   "id": "72f3fc90-58b6-4f7f-897e-dddf6ae532c7",
   "metadata": {},
   "source": [
    "## Messages as state\n",
    "\n",
    "First, let's define some messages."
   ]
  },
  {
   "cell_type": "code",
   "execution_count": 6,
   "id": "cf11a463-e27a-4a05-b41d-64882e38edca",
   "metadata": {},
   "outputs": [
    {
     "name": "stdout",
     "output_type": "stream",
     "text": [
      "==================================\u001b[1m Ai Message \u001b[0m==================================\n",
      "Name: Bot\n",
      "\n",
      "So you said you were researching ocean mammals?\n",
      "================================\u001b[1m Human Message \u001b[0m=================================\n",
      "Name: Dhiraj\n",
      "\n",
      "Yes, I know about whales. But what others should I learn about?\n"
     ]
    }
   ],
   "source": [
    "from pprint import pprint\n",
    "from langchain_core.messages import AIMessage, HumanMessage\n",
    "messages = [AIMessage(f\"So you said you were researching ocean mammals?\", name=\"Bot\")]\n",
    "messages.append(HumanMessage(f\"Yes, I know about whales. But what others should I learn about?\", name=\"Dhiraj\"))\n",
    "\n",
    "for m in messages:\n",
    "    m.pretty_print()"
   ]
  },
  {
   "cell_type": "markdown",
   "id": "b814adcb-6bf9-4b75-be11-e59f933fbd0c",
   "metadata": {},
   "source": [
    "Recall we can pass them to a chat model."
   ]
  },
  {
   "cell_type": "code",
   "execution_count": 8,
   "id": "4712e288-e622-48a2-ad3f-a52f65f3ab08",
   "metadata": {},
   "outputs": [
    {
     "data": {
      "text/plain": [
       "AIMessage(content='That\\'s great! Whales are fascinating creatures. But there\\'s a whole world of other amazing ocean mammals out there! Here are some groups you might want to explore:\\n\\n**1.  Dolphins and Porpoises:**\\n\\n* **Dolphins:** These are some of the most intelligent and social creatures in the ocean. They come in a variety of shapes and sizes, from the small Amazon River dolphin to the massive orca (killer whale). \\n* **Porpoises:** These are often mistaken for dolphins, but they have a more stout body shape and smaller, triangular dorsal fins. \\n\\n**2.  Seals and Sea Lions:**\\n\\n* **Seals:**  These are generally smaller than sea lions and have small, flipper-like forelimbs that are difficult to use for walking on land. They are excellent swimmers.\\n* **Sea Lions:** These are larger than seals and have larger, more prominent flippers that they use to \"walk\" on land. \\n\\n**3.  Walruses:** \\n\\n* **Walruses:** These are massive, tusked animals that inhabit the Arctic. They are famous for their long, impressive tusks and their ability to haul themselves onto land.\\n\\n**4.  Manatees and Dugongs:**\\n\\n* **Manatees:** These are gentle, herbivorous creatures that live in rivers, estuaries, and coastal waters of the Americas. They are often called \"sea cows\" because of their plant-based diet.\\n* **Dugongs:** These are similar to manatees but are found in the Indo-Pacific region. They are the only strictly herbivorous marine mammal.\\n\\n**5.  Sea Otters:**\\n\\n* **Sea Otters:** These are the smallest marine mammals in North America and are known for their dense fur, which helps them stay warm in cold waters. \\n\\n**6.  Polar Bears:**\\n\\n* **Polar Bears:**  While not technically ocean mammals, they spend a significant portion of their lives in and around the Arctic Ocean. They are excellent swimmers and rely on sea ice for hunting seals.\\n\\n**Tips for Learning More:**\\n\\n* **Visit an aquarium or marine park:** Seeing these animals in person can be a truly awe-inspiring experience.\\n* **Read books and articles:** There are many great resources available that can teach you about the biology, behavior, and conservation of ocean mammals.\\n* **Watch documentaries:** There are some fantastic documentaries that showcase the beauty and diversity of ocean mammals.\\n* **Support conservation efforts:** Many ocean mammal species are facing threats, such as habitat loss, pollution, and climate change. You can help by supporting organizations that are working to protect them.\\n\\nI hope this helps! Let me know if you have any other questions. \\n', response_metadata={'prompt_feedback': {'block_reason': 0, 'safety_ratings': []}, 'finish_reason': 'STOP', 'safety_ratings': [{'category': 'HARM_CATEGORY_SEXUALLY_EXPLICIT', 'probability': 'NEGLIGIBLE', 'blocked': False}, {'category': 'HARM_CATEGORY_HATE_SPEECH', 'probability': 'NEGLIGIBLE', 'blocked': False}, {'category': 'HARM_CATEGORY_HARASSMENT', 'probability': 'NEGLIGIBLE', 'blocked': False}, {'category': 'HARM_CATEGORY_DANGEROUS_CONTENT', 'probability': 'NEGLIGIBLE', 'blocked': False}]}, id='run-aa030711-5d10-452c-b9bb-c30b3f6ac142-0', usage_metadata={'input_tokens': 26, 'output_tokens': 572, 'total_tokens': 598})"
      ]
     },
     "execution_count": 8,
     "metadata": {},
     "output_type": "execute_result"
    }
   ],
   "source": [
    "from langchain_google_genai import ChatGoogleGenerativeAI\n",
    "llm = ChatGoogleGenerativeAI(model=\"gemini-1.5-flash\")\n",
    "llm.invoke(messages)"
   ]
  },
  {
   "cell_type": "markdown",
   "id": "fbd1dab8-0af8-4621-8264-ce65065f76ec",
   "metadata": {},
   "source": [
    "We can run our chat model in a simple graph with `MessagesState`."
   ]
  },
  {
   "cell_type": "code",
   "execution_count": 9,
   "id": "bbd8c39c-633b-4176-9cc6-8318e42bb5dd",
   "metadata": {},
   "outputs": [
    {
     "data": {
      "image/jpeg": "[encoded data removed]",
      "text/plain": [
       "<IPython.core.display.Image object>"
      ]
     },
     "metadata": {},
     "output_type": "display_data"
    }
   ],
   "source": [
    "from IPython.display import Image, display\n",
    "from langgraph.graph import MessagesState\n",
    "from langgraph.graph import StateGraph, START, END\n",
    "\n",
    "# Node\n",
    "def chat_model_node(state: MessagesState):\n",
    "    return {\"messages\": llm.invoke(state[\"messages\"])}\n",
    "\n",
    "# Build graph\n",
    "builder = StateGraph(MessagesState)\n",
    "builder.add_node(\"chat_model\", chat_model_node)\n",
    "builder.add_edge(START, \"chat_model\")\n",
    "builder.add_edge(\"chat_model\", END)\n",
    "graph = builder.compile()\n",
    "\n",
    "# View\n",
    "display(Image(graph.get_graph().draw_mermaid_png()))"
   ]
  },
  {
   "cell_type": "code",
   "execution_count": 10,
   "id": "3a5a3e4a-ccfd-4d14-81f1-f0de6e11a1e4",
   "metadata": {},
   "outputs": [
    {
     "name": "stdout",
     "output_type": "stream",
     "text": [
      "==================================\u001b[1m Ai Message \u001b[0m==================================\n",
      "Name: Bot\n",
      "\n",
      "So you said you were researching ocean mammals?\n",
      "================================\u001b[1m Human Message \u001b[0m=================================\n",
      "Name: Dhiraj\n",
      "\n",
      "Yes, I know about whales. But what others should I learn about?\n",
      "==================================\u001b[1m Ai Message \u001b[0m==================================\n",
      "\n",
      "That's great! Whales are fascinating!  But the ocean is teeming with other amazing mammals. Here's a breakdown of some of the most interesting groups to learn about:\n",
      "\n",
      "**1.  The \"Big Three\":**\n",
      "\n",
      "* **Whales:**  These are the giants of the ocean, with over 80 species ranging from the tiny dwarf sperm whale to the massive blue whale. You already know about them, but there's always more to learn!\n",
      "* **Dolphins and Porpoises:**  These playful, intelligent creatures are incredibly diverse, with over 40 species.  They're known for their complex social structures, communication abilities, and acrobatic skills.\n",
      "* **Seals and Sea Lions:**  These charismatic pinnipeds (meaning \"fin-footed\") are adapted for life both on land and in the water. They come in various sizes and shapes, from the tiny harbor seal to the massive elephant seal.\n",
      "\n",
      "**2.  The \"Underdogs\":**\n",
      "\n",
      "* **Manatees and Dugongs:**  These gentle giants are herbivores that graze on seagrass. They are often called \"sea cows\" and are sadly threatened by habitat loss and pollution.\n",
      "* **Sea Otters:**  These adorable creatures are the smallest marine mammals and are known for their thick fur that keeps them warm in cold waters. They are often found in kelp forests and are important predators in their ecosystems.\n",
      "* **Polar Bears:**  While not technically ocean mammals, they spend a significant amount of time in and around the Arctic Ocean. They are apex predators and are facing threats from climate change and melting sea ice.\n",
      "\n",
      "**3.  The \"Hidden Gems\":**\n",
      "\n",
      "* **Walruses:**  These massive, tusked animals are found in the Arctic and subarctic regions. They are known for their large size and impressive tusks, which they use for digging and fighting.\n",
      "* **Sea Elephants:**  These massive seals are found in the Pacific Ocean and are known for their large, inflatable noses that they use for communication and mating displays.\n",
      "* **Beluga Whales:**  These small, white whales are found in the Arctic and subarctic regions. They are known for their distinctive calls and their playful personalities.\n",
      "\n",
      "**Where to Start Your Research:**\n",
      "\n",
      "* **Websites:**  National Geographic, Oceana, WWF, NOAA\n",
      "* **Books:**  \"National Geographic Field Guide to Marine Mammals\" by Mark Carwardine, \"The Secret Life of Whales\" by Peter Tyack\n",
      "* **Documentaries:**  \"Planet Earth: Ocean,\" \"Blue Planet II,\" \"The Last Ocean\"\n",
      "\n",
      "Remember, these are just a few of the many fascinating ocean mammals out there! There's always more to learn and explore.  Good luck with your research!\n"
     ]
    }
   ],
   "source": [
    "output = graph.invoke({'messages': messages})\n",
    "for m in output['messages']:\n",
    "    m.pretty_print()"
   ]
  },
  {
   "cell_type": "markdown",
   "id": "34c33e63-1ef4-412d-bb10-6a1b9e5b35a7",
   "metadata": {},
   "source": [
    "## Reducer\n",
    "\n",
    "A practical challenge when working with messages is managing long-running conversations. \n",
    "\n",
    "Long-running conversations result in high token usage and latency if we are not careful, because we pass a growing list of messages to the model.\n",
    "\n",
    "We have a few ways to address this.\n",
    "\n",
    "First, recall the trick we saw using `RemoveMessage` and the `add_messages` reducer."
   ]
  },
  {
   "cell_type": "code",
   "execution_count": 11,
   "id": "222c6bc5-bb0e-4a43-80f5-c8ec38d99f3a",
   "metadata": {},
   "outputs": [
    {
     "data": {
      "image/jpeg": "[encoded data removed]",
      "text/plain": [
       "<IPython.core.display.Image object>"
      ]
     },
     "metadata": {},
     "output_type": "display_data"
    }
   ],
   "source": [
    "from langchain_core.messages import RemoveMessage\n",
    "\n",
    "# Nodes\n",
    "def filter_messages(state: MessagesState):\n",
    "    # Delete all but the 2 most recent messages\n",
    "    delete_messages = [RemoveMessage(id=m.id) for m in state[\"messages\"][:-2]]\n",
    "    return {\"messages\": delete_messages}\n",
    "\n",
    "def chat_model_node(state: MessagesState):    \n",
    "    return {\"messages\": [llm.invoke(state[\"messages\"])]}\n",
    "\n",
    "# Build graph\n",
    "builder = StateGraph(MessagesState)\n",
    "builder.add_node(\"filter\", filter_messages)\n",
    "builder.add_node(\"chat_model\", chat_model_node)\n",
    "builder.add_edge(START, \"filter\")\n",
    "builder.add_edge(\"filter\", \"chat_model\")\n",
    "builder.add_edge(\"chat_model\", END)\n",
    "graph = builder.compile()\n",
    "\n",
    "# View\n",
    "display(Image(graph.get_graph().draw_mermaid_png()))"
   ]
  },
  {
   "cell_type": "code",
   "execution_count": 12,
   "id": "95a7c2cc-54ce-43e7-9a90-abf37827d709",
   "metadata": {},
   "outputs": [
    {
     "name": "stderr",
     "output_type": "stream",
     "text": [
      "C:\\Users\\dpokh\\AppData\\Local\\Temp\\ipykernel_28464\\2487060097.py:6: LangChainBetaWarning: The class `RemoveMessage` is in beta. It is actively being worked on, so the API may change.\n",
      "  delete_messages = [RemoveMessage(id=m.id) for m in state[\"messages\"][:-2]]\n"
     ]
    },
    {
     "name": "stdout",
     "output_type": "stream",
     "text": [
      "==================================\u001b[1m Ai Message \u001b[0m==================================\n",
      "Name: Bot\n",
      "\n",
      "So you said you were researching ocean mammals?\n",
      "================================\u001b[1m Human Message \u001b[0m=================================\n",
      "Name: Lance\n",
      "\n",
      "Yes, I know about whales. But what others should I learn about?\n",
      "==================================\u001b[1m Ai Message \u001b[0m==================================\n",
      "\n",
      "That's awesome! Whales are fascinating creatures.  There's a whole world of ocean mammals to explore beyond whales though. Here are some other groups you might find interesting:\n",
      "\n",
      "**1.  Dolphins and Porpoises:**\n",
      "\n",
      "* **Dolphins:** These intelligent and social animals are known for their playful nature and complex communication. There are over 40 species of dolphins, each with unique characteristics.\n",
      "* **Porpoises:**  Similar to dolphins but with smaller, more stocky bodies and blunt snouts. They are often solitary or live in small groups. \n",
      "\n",
      "**2.  Seals and Sea Lions:**\n",
      "\n",
      "* **Seals:**  These animals have smooth, streamlined bodies and flippers for swimming. They are often found on land, where they haul out to rest and give birth.\n",
      "* **Sea Lions:**  These animals have external ear flaps and can walk on land with their flippers. They are known for their loud barking calls.\n",
      "\n",
      "**3.  Walruses:**\n",
      "\n",
      "* **Walruses:**  These large, tusked animals are found in the Arctic. They use their tusks to dig for clams and to defend themselves.\n",
      "\n",
      "**4.  Manatees and Dugongs:**\n",
      "\n",
      "* **Manatees:** These herbivorous mammals are found in tropical waters. They are often called \"sea cows\" because they graze on seagrass.\n",
      "* **Dugongs:**  Similar to manatees but with a more pointed snout. They are found in the Indo-Pacific region.\n",
      "\n",
      "**5.  Sea Otters:**\n",
      "\n",
      "* **Sea Otters:** These small, furry animals are the smallest marine mammals. They are found in the North Pacific Ocean and are known for their ability to use tools.\n",
      "\n",
      "**Where to Learn More:**\n",
      "\n",
      "* **Oceanographic Institutes:**  Organizations like the National Oceanic and Atmospheric Administration (NOAA) and the Woods Hole Oceanographic Institution have websites with extensive information on ocean mammals.\n",
      "* **Wildlife Conservation Organizations:** Groups like the World Wildlife Fund (WWF) and the Ocean Conservancy focus on protecting marine life, including ocean mammals.\n",
      "* **Books and Documentaries:** There are countless books and documentaries available that explore the lives of ocean mammals.\n",
      "\n",
      "I hope this helps! Let me know if you have any more questions.\n"
     ]
    }
   ],
   "source": [
    "# Message list with a preamble\n",
    "messages = [AIMessage(\"Hi.\", name=\"Bot\", id=\"1\")]\n",
    "messages.append(HumanMessage(\"Hi.\", name=\"Lance\", id=\"2\"))\n",
    "messages.append(AIMessage(\"So you said you were researching ocean mammals?\", name=\"Bot\", id=\"3\"))\n",
    "messages.append(HumanMessage(\"Yes, I know about whales. But what others should I learn about?\", name=\"Lance\", id=\"4\"))\n",
    "\n",
    "# Invoke\n",
    "output = graph.invoke({'messages': messages})\n",
    "for m in output['messages']:\n",
    "    m.pretty_print()"
   ]
  },
  {
   "cell_type": "markdown",
   "id": "f506457d-014b-4fee-a684-e5edfb4b8f0d",
   "metadata": {},
   "source": [
    "## Filtering messages\n",
    "\n",
    "If you don't need or want to modify the graph state, you can just filter the messages you pass to the chat model.\n",
    "\n",
    "For example, just pass in a filtered list: `llm.invoke(messages[-1:])` to the model."
   ]
  },
  {
   "cell_type": "code",
   "execution_count": 13,
   "id": "22d0b904-7cd6-486b-8948-105bee3d4683",
   "metadata": {},
   "outputs": [
    {
     "data": {
      "image/jpeg": "[encoded data removed]",
      "text/plain": [
       "<IPython.core.display.Image object>"
      ]
     },
     "metadata": {},
     "output_type": "display_data"
    }
   ],
   "source": [
    "# Node\n",
    "def chat_model_node(state: MessagesState):\n",
    "    return {\"messages\": [llm.invoke(state[\"messages\"][-1:])]}\n",
    "\n",
    "# Build graph\n",
    "builder = StateGraph(MessagesState)\n",
    "builder.add_node(\"chat_model\", chat_model_node)\n",
    "builder.add_edge(START, \"chat_model\")\n",
    "builder.add_edge(\"chat_model\", END)\n",
    "graph = builder.compile()\n",
    "\n",
    "# View\n",
    "display(Image(graph.get_graph().draw_mermaid_png()))"
   ]
  },
  {
   "cell_type": "markdown",
   "id": "6f58c6fc-532f-418d-b70a-cfcb3307daf5",
   "metadata": {},
   "source": [
    "Let's take our existing list of messages, append the above LLM response, and append a follow-up question."
   ]
  },
  {
   "cell_type": "code",
   "execution_count": 14,
   "id": "16956015-1dbe-4108-89b5-4209b68b51ca",
   "metadata": {},
   "outputs": [],
   "source": [
    "messages.append(output['messages'][-1])\n",
    "messages.append(HumanMessage(f\"Tell me more about Narwhals!\", name=\"Lance\"))"
   ]
  },
  {
   "cell_type": "code",
   "execution_count": 15,
   "id": "85563415-c085-46a8-a4ac-155df798c54e",
   "metadata": {},
   "outputs": [
    {
     "name": "stdout",
     "output_type": "stream",
     "text": [
      "==================================\u001b[1m Ai Message \u001b[0m==================================\n",
      "Name: Bot\n",
      "\n",
      "Hi.\n",
      "================================\u001b[1m Human Message \u001b[0m=================================\n",
      "Name: Lance\n",
      "\n",
      "Hi.\n",
      "==================================\u001b[1m Ai Message \u001b[0m==================================\n",
      "Name: Bot\n",
      "\n",
      "So you said you were researching ocean mammals?\n",
      "================================\u001b[1m Human Message \u001b[0m=================================\n",
      "Name: Lance\n",
      "\n",
      "Yes, I know about whales. But what others should I learn about?\n",
      "==================================\u001b[1m Ai Message \u001b[0m==================================\n",
      "\n",
      "That's awesome! Whales are fascinating creatures.  There's a whole world of ocean mammals to explore beyond whales though. Here are some other groups you might find interesting:\n",
      "\n",
      "**1.  Dolphins and Porpoises:**\n",
      "\n",
      "* **Dolphins:** These intelligent and social animals are known for their playful nature and complex communication. There are over 40 species of dolphins, each with unique characteristics.\n",
      "* **Porpoises:**  Similar to dolphins but with smaller, more stocky bodies and blunt snouts. They are often solitary or live in small groups. \n",
      "\n",
      "**2.  Seals and Sea Lions:**\n",
      "\n",
      "* **Seals:**  These animals have smooth, streamlined bodies and flippers for swimming. They are often found on land, where they haul out to rest and give birth.\n",
      "* **Sea Lions:**  These animals have external ear flaps and can walk on land with their flippers. They are known for their loud barking calls.\n",
      "\n",
      "**3.  Walruses:**\n",
      "\n",
      "* **Walruses:**  These large, tusked animals are found in the Arctic. They use their tusks to dig for clams and to defend themselves.\n",
      "\n",
      "**4.  Manatees and Dugongs:**\n",
      "\n",
      "* **Manatees:** These herbivorous mammals are found in tropical waters. They are often called \"sea cows\" because they graze on seagrass.\n",
      "* **Dugongs:**  Similar to manatees but with a more pointed snout. They are found in the Indo-Pacific region.\n",
      "\n",
      "**5.  Sea Otters:**\n",
      "\n",
      "* **Sea Otters:** These small, furry animals are the smallest marine mammals. They are found in the North Pacific Ocean and are known for their ability to use tools.\n",
      "\n",
      "**Where to Learn More:**\n",
      "\n",
      "* **Oceanographic Institutes:**  Organizations like the National Oceanic and Atmospheric Administration (NOAA) and the Woods Hole Oceanographic Institution have websites with extensive information on ocean mammals.\n",
      "* **Wildlife Conservation Organizations:** Groups like the World Wildlife Fund (WWF) and the Ocean Conservancy focus on protecting marine life, including ocean mammals.\n",
      "* **Books and Documentaries:** There are countless books and documentaries available that explore the lives of ocean mammals.\n",
      "\n",
      "I hope this helps! Let me know if you have any more questions.\n",
      "================================\u001b[1m Human Message \u001b[0m=================================\n",
      "Name: Lance\n",
      "\n",
      "Tell me more about Narwhals!\n"
     ]
    }
   ],
   "source": [
    "for m in messages:\n",
    "    m.pretty_print()"
   ]
  },
  {
   "cell_type": "code",
   "execution_count": 16,
   "id": "23349705-a059-47b5-9760-d8f64e687393",
   "metadata": {},
   "outputs": [
    {
     "name": "stdout",
     "output_type": "stream",
     "text": [
      "==================================\u001b[1m Ai Message \u001b[0m==================================\n",
      "Name: Bot\n",
      "\n",
      "Hi.\n",
      "================================\u001b[1m Human Message \u001b[0m=================================\n",
      "Name: Lance\n",
      "\n",
      "Hi.\n",
      "==================================\u001b[1m Ai Message \u001b[0m==================================\n",
      "Name: Bot\n",
      "\n",
      "So you said you were researching ocean mammals?\n",
      "================================\u001b[1m Human Message \u001b[0m=================================\n",
      "Name: Lance\n",
      "\n",
      "Yes, I know about whales. But what others should I learn about?\n",
      "==================================\u001b[1m Ai Message \u001b[0m==================================\n",
      "\n",
      "That's awesome! Whales are fascinating creatures.  There's a whole world of ocean mammals to explore beyond whales though. Here are some other groups you might find interesting:\n",
      "\n",
      "**1.  Dolphins and Porpoises:**\n",
      "\n",
      "* **Dolphins:** These intelligent and social animals are known for their playful nature and complex communication. There are over 40 species of dolphins, each with unique characteristics.\n",
      "* **Porpoises:**  Similar to dolphins but with smaller, more stocky bodies and blunt snouts. They are often solitary or live in small groups. \n",
      "\n",
      "**2.  Seals and Sea Lions:**\n",
      "\n",
      "* **Seals:**  These animals have smooth, streamlined bodies and flippers for swimming. They are often found on land, where they haul out to rest and give birth.\n",
      "* **Sea Lions:**  These animals have external ear flaps and can walk on land with their flippers. They are known for their loud barking calls.\n",
      "\n",
      "**3.  Walruses:**\n",
      "\n",
      "* **Walruses:**  These large, tusked animals are found in the Arctic. They use their tusks to dig for clams and to defend themselves.\n",
      "\n",
      "**4.  Manatees and Dugongs:**\n",
      "\n",
      "* **Manatees:** These herbivorous mammals are found in tropical waters. They are often called \"sea cows\" because they graze on seagrass.\n",
      "* **Dugongs:**  Similar to manatees but with a more pointed snout. They are found in the Indo-Pacific region.\n",
      "\n",
      "**5.  Sea Otters:**\n",
      "\n",
      "* **Sea Otters:** These small, furry animals are the smallest marine mammals. They are found in the North Pacific Ocean and are known for their ability to use tools.\n",
      "\n",
      "**Where to Learn More:**\n",
      "\n",
      "* **Oceanographic Institutes:**  Organizations like the National Oceanic and Atmospheric Administration (NOAA) and the Woods Hole Oceanographic Institution have websites with extensive information on ocean mammals.\n",
      "* **Wildlife Conservation Organizations:** Groups like the World Wildlife Fund (WWF) and the Ocean Conservancy focus on protecting marine life, including ocean mammals.\n",
      "* **Books and Documentaries:** There are countless books and documentaries available that explore the lives of ocean mammals.\n",
      "\n",
      "I hope this helps! Let me know if you have any more questions.\n",
      "================================\u001b[1m Human Message \u001b[0m=================================\n",
      "Name: Lance\n",
      "\n",
      "Tell me more about Narwhals!\n",
      "==================================\u001b[1m Ai Message \u001b[0m==================================\n",
      "\n",
      "##  Narwhals: The Unicorns of the Arctic\n",
      "\n",
      "Narwhals are truly fascinating creatures, often called the \"unicorns of the sea\" for the long, spiraled tusk that protrudes from the upper jaw of most males. Let's dive into what makes them so special:\n",
      "\n",
      "**Appearance:**\n",
      "\n",
      "* **Tusks:** The most striking feature! Only males typically have a tusk, which is actually a modified tooth that can grow up to 10 feet long. The tusk is not used for fighting, but likely for sensory purposes, helping the narwhal detect changes in water temperature, salinity, and pressure.\n",
      "* **Size:** Narwhals are medium-sized whales, averaging about 15-16 feet long and weighing around 2,000-3,000 pounds.\n",
      "* **Color:** They have a dark gray to black back and a lighter belly. \n",
      "* **Skin:** Their skin is smooth and sleek, with a slight sheen.\n",
      "\n",
      "**Behavior:**\n",
      "\n",
      "* **Social:** Narwhals are social animals that live in groups called pods, which can range from a few individuals to hundreds. \n",
      "* **Migration:** They migrate seasonally between their summer feeding grounds in the Arctic Ocean and their wintering grounds in deeper waters.\n",
      "* **Diet:** They primarily feed on fish, squid, and crustaceans.\n",
      "* **Communication:** Narwhals communicate using a variety of sounds, including clicks, whistles, and moans.\n",
      "* **Diving:** They are expert divers, able to reach depths of up to 1,500 meters (almost a mile) in search of food.\n",
      "\n",
      "**Interesting Facts:**\n",
      "\n",
      "* **Tusks are unique:**  No two narwhal tusks are exactly alike, making them like fingerprints.\n",
      "* **Tusks can be used for mating:** Some scientists believe that the tusk is used as a display to attract mates.\n",
      "* **Tusks are not used for fighting:**  They are actually quite fragile and can easily break.\n",
      "* **They have a \"melon\" on their head:**  This is a fatty organ that helps them with echolocation.\n",
      "* **They are endangered:**  Narwhals are facing threats from climate change, pollution, and hunting.\n",
      "\n",
      "**Conservation:**\n",
      "\n",
      "* **Protected status:** Narwhals are listed as \"Least Concern\" by the IUCN Red List, but their populations are declining in some areas.\n",
      "* **Ongoing research:** Scientists are working to learn more about narwhal behavior and ecology, which can help with conservation efforts.\n",
      "\n",
      "**If you're interested in learning more, here are some resources:**\n",
      "\n",
      "* **The World Wildlife Fund:** https://www.worldwildlife.org/species/narwhal\n",
      "* **The National Oceanic and Atmospheric Administration (NOAA):** https://www.fisheries.noaa.gov/species/narwhal\n",
      "* **The International Union for Conservation of Nature (IUCN):** https://www.iucnredlist.org/species/41745/100125107\n",
      "\n",
      "Narwhals are truly captivating creatures, and their mysterious lives continue to fascinate scientists and the general public alike.\n"
     ]
    }
   ],
   "source": [
    "# Invoke, using message filtering\n",
    "output = graph.invoke({'messages': messages})\n",
    "for m in output['messages']:\n",
    "    m.pretty_print()"
   ]
  },
  {
   "cell_type": "markdown",
   "id": "42e1d8d2-e297-4d78-b54c-d12b3c866745",
   "metadata": {},
   "source": [
    "The state has all of the mesages.\n",
    "\n",
    "But, let's look at the LangSmith trace to see that the model invocation only uses the last message:\n",
    "\n",
    "https://smith.langchain.com/public/75aca3ce-ef19-4b92-94be-0178c7a660d9/r"
   ]
  },
  {
   "cell_type": "markdown",
   "id": "fc40d930-3c1f-47fe-8d2a-ce174873353c",
   "metadata": {},
   "source": [
    "## Trim messages\n",
    "\n",
    "Another approach is to [trim messages](https://python.langchain.com/v0.2/docs/how_to/trim_messages/#getting-the-last-max_tokens-tokens), based upon a set number of tokens. \n",
    "\n",
    "This restricts the message history to a specified number of tokens.\n",
    "\n",
    "While filtering only returns a post-hoc subset of the messages between agents, trimming restricts the number of tokens that a chat model can use to respond.\n",
    "\n",
    "See the `trim_messages` below."
   ]
  },
  {
   "cell_type": "code",
   "execution_count": 22,
   "id": "2ff99b81-cf03-4cc2-b44f-44829a73e1fd",
   "metadata": {},
   "outputs": [
    {
     "data": {
      "image/jpeg": "[encoded data removed]",
      "text/plain": [
       "<IPython.core.display.Image object>"
      ]
     },
     "metadata": {},
     "output_type": "display_data"
    }
   ],
   "source": [
    "from langchain_core.messages import trim_messages\n",
    "\n",
    "# Node\n",
    "def chat_model_node(state: MessagesState):\n",
    "    messages = trim_messages(\n",
    "            state[\"messages\"],\n",
    "            max_tokens=100,\n",
    "            strategy=\"last\",\n",
    "            token_counter=ChatGoogleGenerativeAI(model=\"gemini-1.5-flash\"),\n",
    "            allow_partial=False,\n",
    "        )\n",
    "    return {\"messages\": [llm.invoke(messages)]}\n",
    "\n",
    "# Build graph\n",
    "builder = StateGraph(MessagesState)\n",
    "builder.add_node(\"chat_model\", chat_model_node)\n",
    "builder.add_edge(START, \"chat_model\")\n",
    "builder.add_edge(\"chat_model\", END)\n",
    "graph = builder.compile()\n",
    "\n",
    "# View\n",
    "display(Image(graph.get_graph().draw_mermaid_png()))"
   ]
  },
  {
   "cell_type": "code",
   "execution_count": 23,
   "id": "24df63ac-da29-4874-b3df-7e390e97cc8a",
   "metadata": {},
   "outputs": [],
   "source": [
    "messages.append(output['messages'][-1])\n",
    "messages.append(HumanMessage(f\"Tell me where Orcas live!\", name=\"Lance\"))"
   ]
  },
  {
   "cell_type": "code",
   "execution_count": 24,
   "id": "6d9d8971-c75c-43ca-a209-eb1d07b2ead0",
   "metadata": {},
   "outputs": [
    {
     "data": {
      "text/plain": [
       "[HumanMessage(content='Tell me where Orcas live!', name='Lance')]"
      ]
     },
     "execution_count": 24,
     "metadata": {},
     "output_type": "execute_result"
    }
   ],
   "source": [
    "trim_messages(\n",
    "            messages,\n",
    "            max_tokens=100,\n",
    "            strategy=\"last\",\n",
    "            token_counter=ChatGoogleGenerativeAI(model=\"gemini-1.5-flash\"),\n",
    "            allow_partial=False\n",
    "        )"
   ]
  },
  {
   "cell_type": "code",
   "execution_count": 25,
   "id": "ed70a269-a869-4fa0-a1df-29736a432c51",
   "metadata": {},
   "outputs": [],
   "source": [
    "# Invoke, using message trimming\n",
    "messages_out_trim = graph.invoke({'messages': messages})"
   ]
  },
  {
   "cell_type": "markdown",
   "id": "38b3db67-380e-46b5-9a6a-20100ba52008",
   "metadata": {},
   "source": [
    "Let's look at the LangSmith trace to see the model invocation:\n",
    "\n",
    "https://smith.langchain.com/public/b153f7e9-f1a5-4d60-8074-f0d7ab5b42ef/r"
   ]
  },
  {
   "cell_type": "code",
   "execution_count": 26,
   "id": "77bdb050",
   "metadata": {},
   "outputs": [
    {
     "data": {
      "text/plain": [
       "{'messages': [AIMessage(content='Hi.', name='Bot', id='1'),\n",
       "  HumanMessage(content='Hi.', name='Lance', id='2'),\n",
       "  AIMessage(content='So you said you were researching ocean mammals?', name='Bot', id='3'),\n",
       "  HumanMessage(content='Yes, I know about whales. But what others should I learn about?', name='Lance', id='4'),\n",
       "  AIMessage(content='That\\'s awesome! Whales are fascinating creatures.  There\\'s a whole world of ocean mammals to explore beyond whales though. Here are some other groups you might find interesting:\\n\\n**1.  Dolphins and Porpoises:**\\n\\n* **Dolphins:** These intelligent and social animals are known for their playful nature and complex communication. There are over 40 species of dolphins, each with unique characteristics.\\n* **Porpoises:**  Similar to dolphins but with smaller, more stocky bodies and blunt snouts. They are often solitary or live in small groups. \\n\\n**2.  Seals and Sea Lions:**\\n\\n* **Seals:**  These animals have smooth, streamlined bodies and flippers for swimming. They are often found on land, where they haul out to rest and give birth.\\n* **Sea Lions:**  These animals have external ear flaps and can walk on land with their flippers. They are known for their loud barking calls.\\n\\n**3.  Walruses:**\\n\\n* **Walruses:**  These large, tusked animals are found in the Arctic. They use their tusks to dig for clams and to defend themselves.\\n\\n**4.  Manatees and Dugongs:**\\n\\n* **Manatees:** These herbivorous mammals are found in tropical waters. They are often called \"sea cows\" because they graze on seagrass.\\n* **Dugongs:**  Similar to manatees but with a more pointed snout. They are found in the Indo-Pacific region.\\n\\n**5.  Sea Otters:**\\n\\n* **Sea Otters:** These small, furry animals are the smallest marine mammals. They are found in the North Pacific Ocean and are known for their ability to use tools.\\n\\n**Where to Learn More:**\\n\\n* **Oceanographic Institutes:**  Organizations like the National Oceanic and Atmospheric Administration (NOAA) and the Woods Hole Oceanographic Institution have websites with extensive information on ocean mammals.\\n* **Wildlife Conservation Organizations:** Groups like the World Wildlife Fund (WWF) and the Ocean Conservancy focus on protecting marine life, including ocean mammals.\\n* **Books and Documentaries:** There are countless books and documentaries available that explore the lives of ocean mammals.\\n\\nI hope this helps! Let me know if you have any more questions. \\n', response_metadata={'prompt_feedback': {'block_reason': 0, 'safety_ratings': []}, 'finish_reason': 'STOP', 'safety_ratings': [{'category': 'HARM_CATEGORY_SEXUALLY_EXPLICIT', 'probability': 'NEGLIGIBLE', 'blocked': False}, {'category': 'HARM_CATEGORY_HATE_SPEECH', 'probability': 'NEGLIGIBLE', 'blocked': False}, {'category': 'HARM_CATEGORY_HARASSMENT', 'probability': 'NEGLIGIBLE', 'blocked': False}, {'category': 'HARM_CATEGORY_DANGEROUS_CONTENT', 'probability': 'NEGLIGIBLE', 'blocked': False}]}, id='run-5616de4b-c16e-4bef-9b21-f118f0856bee-0', usage_metadata={'input_tokens': 26, 'output_tokens': 472, 'total_tokens': 498}),\n",
       "  HumanMessage(content='Tell me more about Narwhals!', name='Lance', id='3fcb76ff-ca0d-4fa6-8673-9a3b1684bdf5'),\n",
       "  AIMessage(content='##  Narwhals: The Unicorns of the Arctic\\n\\nNarwhals are truly fascinating creatures, often called the \"unicorns of the sea\" for the long, spiraled tusk that protrudes from the upper jaw of most males. Let\\'s dive into what makes them so special:\\n\\n**Appearance:**\\n\\n* **Tusks:** The most striking feature! Only males typically have a tusk, which is actually a modified tooth that can grow up to 10 feet long. The tusk is not used for fighting, but likely for sensory purposes, helping the narwhal detect changes in water temperature, salinity, and pressure.\\n* **Size:** Narwhals are medium-sized whales, averaging about 15-16 feet long and weighing around 2,000-3,000 pounds.\\n* **Color:** They have a dark gray to black back and a lighter belly. \\n* **Skin:** Their skin is smooth and sleek, with a slight sheen.\\n\\n**Behavior:**\\n\\n* **Social:** Narwhals are social animals that live in groups called pods, which can range from a few individuals to hundreds. \\n* **Migration:** They migrate seasonally between their summer feeding grounds in the Arctic Ocean and their wintering grounds in deeper waters.\\n* **Diet:** They primarily feed on fish, squid, and crustaceans.\\n* **Communication:** Narwhals communicate using a variety of sounds, including clicks, whistles, and moans.\\n* **Diving:** They are expert divers, able to reach depths of up to 1,500 meters (almost a mile) in search of food.\\n\\n**Interesting Facts:**\\n\\n* **Tusks are unique:**  No two narwhal tusks are exactly alike, making them like fingerprints.\\n* **Tusks can be used for mating:** Some scientists believe that the tusk is used as a display to attract mates.\\n* **Tusks are not used for fighting:**  They are actually quite fragile and can easily break.\\n* **They have a \"melon\" on their head:**  This is a fatty organ that helps them with echolocation.\\n* **They are endangered:**  Narwhals are facing threats from climate change, pollution, and hunting.\\n\\n**Conservation:**\\n\\n* **Protected status:** Narwhals are listed as \"Least Concern\" by the IUCN Red List, but their populations are declining in some areas.\\n* **Ongoing research:** Scientists are working to learn more about narwhal behavior and ecology, which can help with conservation efforts.\\n\\n**If you\\'re interested in learning more, here are some resources:**\\n\\n* **The World Wildlife Fund:** https://www.worldwildlife.org/species/narwhal\\n* **The National Oceanic and Atmospheric Administration (NOAA):** https://www.fisheries.noaa.gov/species/narwhal\\n* **The International Union for Conservation of Nature (IUCN):** https://www.iucnredlist.org/species/41745/100125107\\n\\nNarwhals are truly captivating creatures, and their mysterious lives continue to fascinate scientists and the general public alike. \\n', response_metadata={'prompt_feedback': {'block_reason': 0, 'safety_ratings': []}, 'finish_reason': 'STOP', 'safety_ratings': [{'category': 'HARM_CATEGORY_SEXUALLY_EXPLICIT', 'probability': 'NEGLIGIBLE', 'blocked': False}, {'category': 'HARM_CATEGORY_HATE_SPEECH', 'probability': 'NEGLIGIBLE', 'blocked': False}, {'category': 'HARM_CATEGORY_HARASSMENT', 'probability': 'NEGLIGIBLE', 'blocked': False}, {'category': 'HARM_CATEGORY_DANGEROUS_CONTENT', 'probability': 'NEGLIGIBLE', 'blocked': False}]}, id='run-b747813d-3af0-40e5-ab8e-9512a72835cf-0', usage_metadata={'input_tokens': 9, 'output_tokens': 662, 'total_tokens': 671}),\n",
       "  HumanMessage(content='Tell me where Orcas live!', name='Lance', id='cde059e2-d7de-4381-8edd-6baaa6abf423'),\n",
       "  AIMessage(content='##  Narwhals: The Unicorns of the Arctic\\n\\nNarwhals are truly fascinating creatures, often called the \"unicorns of the sea\" for the long, spiraled tusk that protrudes from the upper jaw of most males. Let\\'s dive into what makes them so special:\\n\\n**Appearance:**\\n\\n* **Tusks:** The most striking feature! Only males typically have a tusk, which is actually a modified tooth that can grow up to 10 feet long. The tusk is not used for fighting, but likely for sensory purposes, helping the narwhal detect changes in water temperature, salinity, and pressure.\\n* **Size:** Narwhals are medium-sized whales, averaging about 15-16 feet long and weighing around 2,000-3,000 pounds.\\n* **Color:** They have a dark gray to black back and a lighter belly. \\n* **Skin:** Their skin is smooth and sleek, with a slight sheen.\\n\\n**Behavior:**\\n\\n* **Social:** Narwhals are social animals that live in groups called pods, which can range from a few individuals to hundreds. \\n* **Migration:** They migrate seasonally between their summer feeding grounds in the Arctic Ocean and their wintering grounds in deeper waters.\\n* **Diet:** They primarily feed on fish, squid, and crustaceans.\\n* **Communication:** Narwhals communicate using a variety of sounds, including clicks, whistles, and moans.\\n* **Diving:** They are expert divers, able to reach depths of up to 1,500 meters (almost a mile) in search of food.\\n\\n**Interesting Facts:**\\n\\n* **Tusks are unique:**  No two narwhal tusks are exactly alike, making them like fingerprints.\\n* **Tusks can be used for mating:** Some scientists believe that the tusk is used as a display to attract mates.\\n* **Tusks are not used for fighting:**  They are actually quite fragile and can easily break.\\n* **They have a \"melon\" on their head:**  This is a fatty organ that helps them with echolocation.\\n* **They are endangered:**  Narwhals are facing threats from climate change, pollution, and hunting.\\n\\n**Conservation:**\\n\\n* **Protected status:** Narwhals are listed as \"Least Concern\" by the IUCN Red List, but their populations are declining in some areas.\\n* **Ongoing research:** Scientists are working to learn more about narwhal behavior and ecology, which can help with conservation efforts.\\n\\n**If you\\'re interested in learning more, here are some resources:**\\n\\n* **The World Wildlife Fund:** https://www.worldwildlife.org/species/narwhal\\n* **The National Oceanic and Atmospheric Administration (NOAA):** https://www.fisheries.noaa.gov/species/narwhal\\n* **The International Union for Conservation of Nature (IUCN):** https://www.iucnredlist.org/species/41745/100125107\\n\\nNarwhals are truly captivating creatures, and their mysterious lives continue to fascinate scientists and the general public alike. \\n', response_metadata={'prompt_feedback': {'block_reason': 0, 'safety_ratings': []}, 'finish_reason': 'STOP', 'safety_ratings': [{'category': 'HARM_CATEGORY_SEXUALLY_EXPLICIT', 'probability': 'NEGLIGIBLE', 'blocked': False}, {'category': 'HARM_CATEGORY_HATE_SPEECH', 'probability': 'NEGLIGIBLE', 'blocked': False}, {'category': 'HARM_CATEGORY_HARASSMENT', 'probability': 'NEGLIGIBLE', 'blocked': False}, {'category': 'HARM_CATEGORY_DANGEROUS_CONTENT', 'probability': 'NEGLIGIBLE', 'blocked': False}]}, id='run-b747813d-3af0-40e5-ab8e-9512a72835cf-0', usage_metadata={'input_tokens': 9, 'output_tokens': 662, 'total_tokens': 671}),\n",
       "  HumanMessage(content='Tell me where Orcas live!', name='Lance', id='e85881e7-efbd-4087-ad34-b5cf4827f8a1'),\n",
       "  AIMessage(content=\"Orcas, also known as killer whales, are found in **all oceans** around the world, from the frigid waters of the Arctic and Antarctic to the tropical regions. They are **highly adaptable** and can live in a variety of habitats, including:\\n\\n* **Coastal areas:**  Orcas can be found near coastlines, especially where there are abundant prey like seals, sea lions, and fish.\\n* **Open ocean:**  Orcas also inhabit the open ocean, where they hunt larger prey like whales and sharks.\\n* **Deep water:**  Some populations of orcas are known to dive to depths of over 1,000 meters (3,280 feet) in search of food.\\n\\nHowever, **their distribution is not uniform**. Some areas have larger populations than others, and different populations may have specialized diets and behaviors.\\n\\nHere are some **specific locations** where orcas are commonly found:\\n\\n* **North Pacific:**  The waters off the coasts of Alaska, British Columbia, Washington, and Oregon are home to a large number of orcas.\\n* **North Atlantic:**  Orcas can be found in the North Atlantic, including the waters off the coasts of Norway, Iceland, and the UK.\\n* **Southern Hemisphere:**  Orcas are also found in the Southern Hemisphere, including the waters off the coasts of Antarctica, Australia, and South America.\\n\\nIt's important to note that **orcas are migratory**, and they may travel long distances to follow their prey or find suitable breeding grounds. \\n\", response_metadata={'prompt_feedback': {'block_reason': 0, 'safety_ratings': []}, 'finish_reason': 'STOP', 'safety_ratings': [{'category': 'HARM_CATEGORY_SEXUALLY_EXPLICIT', 'probability': 'NEGLIGIBLE', 'blocked': False}, {'category': 'HARM_CATEGORY_HATE_SPEECH', 'probability': 'NEGLIGIBLE', 'blocked': False}, {'category': 'HARM_CATEGORY_HARASSMENT', 'probability': 'NEGLIGIBLE', 'blocked': False}, {'category': 'HARM_CATEGORY_DANGEROUS_CONTENT', 'probability': 'NEGLIGIBLE', 'blocked': False}]}, id='run-7319284f-aee7-4cf0-b55c-8446596c1c7b-0', usage_metadata={'input_tokens': 8, 'output_tokens': 316, 'total_tokens': 324})]}"
      ]
     },
     "execution_count": 26,
     "metadata": {},
     "output_type": "execute_result"
    }
   ],
   "source": [
    "messages_out_trim"
   ]
  },
  {
   "cell_type": "code",
   "execution_count": null,
   "id": "6cb66b84",
   "metadata": {},
   "outputs": [],
   "source": []
  }
 ],
 "metadata": {
  "kernelspec": {
   "display_name": "Python 3 (ipykernel)",
   "language": "python",
   "name": "python3"
  },
  "language_info": {
   "codemirror_mode": {
    "name": "ipython",
    "version": 3
   },
   "file_extension": ".py",
   "mimetype": "text/x-python",
   "name": "python",
   "nbconvert_exporter": "python",
   "pygments_lexer": "ipython3",
   "version": "3.11.5"
  }
 },
 "nbformat": 4,
 "nbformat_minor": 5
}
